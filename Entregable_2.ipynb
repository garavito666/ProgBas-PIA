{
  "nbformat": 4,
  "nbformat_minor": 0,
  "metadata": {
    "colab": {
      "provenance": []
    },
    "kernelspec": {
      "name": "python3",
      "display_name": "Python 3"
    },
    "language_info": {
      "name": "python"
    }
  },
  "cells": [
    {
      "cell_type": "markdown",
      "source": [
        "# **Entregable semana 2**\n",
        "**1. Extraer los datos**\n",
        "\n",
        "El script obtiene los datos meteorológicos en formato JSON, directamente desde la API, tanto para:\n",
        "\n",
        "-El clima actual (con valores como temperatura, humedad, viento, etc.)\n",
        "\n",
        "-El pronóstico de los próximos cinco días, con datos cada 3 horas.\n",
        "\n",
        "-Se revisó la estructura de los datos para asegurar que fueran útiles, consistentes y en el idioma deseado.\n",
        "\n",
        "**2. Limpiar los datos**\n",
        "\n",
        "En el procesamiento:\n",
        "\n",
        "-Se eliminaron campos irrelevantes como coordenadas geográficas, código de zona horaria o identificadores internos.\n",
        "\n",
        "-Se estandarizaron los valores numéricos, como la temperatura (a °C o °F) y la velocidad del viento (en m/s o mph).\n",
        "\n",
        "-Se extrajeron solo los datos de mediodía en el pronóstico para evitar redundancia."
      ],
      "metadata": {
        "id": "_Zkn1-l9v3_b"
      }
    },
    {
      "cell_type": "code",
      "source": [
        "!pip install requests\n",
        "!pip install plotext\n",
        "!pip install openpyxl"
      ],
      "metadata": {
        "colab": {
          "base_uri": "https://localhost:8080/"
        },
        "id": "AZrpvjZs59aQ",
        "outputId": "7afb00e9-92db-4d16-b16b-d429db14e548"
      },
      "execution_count": null,
      "outputs": [
        {
          "output_type": "stream",
          "name": "stdout",
          "text": [
            "Requirement already satisfied: requests in /usr/local/lib/python3.11/dist-packages (2.32.3)\n",
            "Requirement already satisfied: charset-normalizer<4,>=2 in /usr/local/lib/python3.11/dist-packages (from requests) (3.4.2)\n",
            "Requirement already satisfied: idna<4,>=2.5 in /usr/local/lib/python3.11/dist-packages (from requests) (3.10)\n",
            "Requirement already satisfied: urllib3<3,>=1.21.1 in /usr/local/lib/python3.11/dist-packages (from requests) (2.4.0)\n",
            "Requirement already satisfied: certifi>=2017.4.17 in /usr/local/lib/python3.11/dist-packages (from requests) (2025.4.26)\n",
            "Collecting plotext\n",
            "  Downloading plotext-5.3.2-py3-none-any.whl.metadata (5.5 kB)\n",
            "Downloading plotext-5.3.2-py3-none-any.whl (64 kB)\n",
            "\u001b[2K   \u001b[90m━━━━━━━━━━━━━━━━━━━━━━━━━━━━━━━━━━━━━━━━\u001b[0m \u001b[32m64.0/64.0 kB\u001b[0m \u001b[31m1.4 MB/s\u001b[0m eta \u001b[36m0:00:00\u001b[0m\n",
            "\u001b[?25hInstalling collected packages: plotext\n",
            "Successfully installed plotext-5.3.2\n",
            "Requirement already satisfied: openpyxl in /usr/local/lib/python3.11/dist-packages (3.1.5)\n",
            "Requirement already satisfied: et-xmlfile in /usr/local/lib/python3.11/dist-packages (from openpyxl) (2.0.0)\n"
          ]
        }
      ]
    },
    {
      "cell_type": "code",
      "source": [
        "import requests\n",
        "import json\n",
        "import csv\n",
        "from datetime import datetime, timezone\n",
        "import time\n",
        "\n",
        "API_key = \"f0f0c07c117721896152aeca0fbbe31a\"\n",
        "\n",
        "def obtener_clima_actual(ciudad):\n",
        "    url = f\"https://api.openweathermap.org/data/2.5/weather?q={ciudad}&units=metric&appid={API_key}\"\n",
        "    res = requests.get(url)\n",
        "    if res.status_code != 200:\n",
        "        print(\"❌ Ciudad no encontrada o error en la petición.\")\n",
        "        return None\n",
        "    data = res.json()\n",
        "    temperatura = data[\"main\"][\"temp\"]\n",
        "    humedad = data[\"main\"][\"humidity\"]\n",
        "    presion = data[\"main\"][\"pressure\"]\n",
        "    return {\n",
        "        \"fecha\": datetime.now().strftime(\"%Y-%m-%d\"),\n",
        "        \"ciudad\": ciudad,\n",
        "        \"temperatura\": temperatura,\n",
        "        \"humedad\": humedad,\n",
        "        \"presion\": presion,\n",
        "        \"tipo\": \"actual\"\n",
        "    }\n",
        "\n",
        "def obtener_pronostico(ciudad):\n",
        "    url = f\"https://api.openweathermap.org/data/2.5/forecast?q={ciudad}&units=metric&appid={API_key}\"\n",
        "    res = requests.get(url)\n",
        "    if res.status_code != 200:\n",
        "        print(\"❌ Ciudad no encontrada o error en la petición.\")\n",
        "        return []\n",
        "    data = res.json()\n",
        "    pronosticos = []\n",
        "\n",
        "    # Queremos solo 1 pronóstico por día a las 18:00 hrs\n",
        "    fechas_procesadas = set()\n",
        "    for item in data[\"list\"]:\n",
        "        dt_txt = item[\"dt_txt\"]  # formato 'YYYY-MM-DD HH:MM:SS'\n",
        "        fecha_str, hora_str = dt_txt.split()\n",
        "        if hora_str == \"18:00:00\" and fecha_str not in fechas_procesadas:\n",
        "            fechas_procesadas.add(fecha_str)\n",
        "            pronosticos.append({\n",
        "                \"fecha\": fecha_str,\n",
        "                \"ciudad\": ciudad,\n",
        "                \"temperatura\": item[\"main\"][\"temp\"],\n",
        "                \"humedad\": item[\"main\"][\"humidity\"],\n",
        "                \"presion\": item[\"main\"][\"pressure\"],\n",
        "                \"tipo\": \"pronostico\"\n",
        "            })\n",
        "    return pronosticos\n",
        "\n",
        "def guardar_csv(nombre_archivo, datos):\n",
        "    campos = [\"fecha\", \"ciudad\", \"temperatura\", \"humedad\", \"presion\", \"tipo\"]\n",
        "    try:\n",
        "        with open(nombre_archivo, mode='w', newline='', encoding='utf-8') as archivo:\n",
        "            writer = csv.DictWriter(archivo, fieldnames=campos)\n",
        "            writer.writeheader()\n",
        "            writer.writerows(datos)\n",
        "        print(f\"✅ Datos guardados en {nombre_archivo}\")\n",
        "    except Exception as e:\n",
        "        print(f\"❌ Error al guardar CSV: {e}\")\n",
        "\n",
        "def guardar_json(nombre_archivo, datos):\n",
        "    try:\n",
        "        with open(nombre_archivo, mode='w', encoding='utf-8') as archivo:\n",
        "            json.dump(datos, archivo, indent=4)\n",
        "        print(f\"✅ Datos guardados en {nombre_archivo}\")\n",
        "    except Exception as e:\n",
        "        print(f\"❌ Error al guardar JSON: {e}\")\n",
        "\n",
        "def main():\n",
        "    ciudad = input(\"🏙️ Introduce el nombre de la ciudad para obtener el clima: \").strip()\n",
        "    if not ciudad:\n",
        "        print(\"❌ Debes ingresar un nombre de ciudad válido.\")\n",
        "        return\n",
        "\n",
        "    clima_actual = obtener_clima_actual(ciudad)\n",
        "    if clima_actual is None:\n",
        "        return\n",
        "\n",
        "    pronostico = obtener_pronostico(ciudad)\n",
        "    if not pronostico:\n",
        "        print(\"⚠️ No se pudo obtener pronóstico, solo se guardará el clima actual.\")\n",
        "        datos_guardar = [clima_actual]\n",
        "    else:\n",
        "        datos_guardar = [clima_actual] + pronostico\n",
        "\n",
        "    # Guardar en archivos fijos sin fecha ni hora en el nombre\n",
        "    guardar_csv(\"clima_datos.csv\", datos_guardar)\n",
        "    guardar_json(\"clima_datos.json\", datos_guardar)\n",
        "\n",
        "    print(\"\\n📊 Clima actual y pronóstico (solo temperaturas y humedad):\")\n",
        "    for dato in datos_guardar:\n",
        "        tipo = \"Actual\" if dato[\"tipo\"] == \"actual\" else \"Pronóstico\"\n",
        "        print(f\"{tipo} - {dato['fecha']} - {dato['ciudad']}: {dato['temperatura']}°C, Humedad: {dato['humedad']}%, Presión: {dato['presion']} hPa\")\n",
        "\n",
        "if __name__ == \"__main__\":\n",
        "    main()\n"
      ],
      "metadata": {
        "colab": {
          "base_uri": "https://localhost:8080/"
        },
        "id": "QjnwLrCl0I5S",
        "outputId": "781984b1-6850-4f15-c85a-7e67858cac50"
      },
      "execution_count": null,
      "outputs": [
        {
          "output_type": "stream",
          "name": "stdout",
          "text": [
            "🏙️ Introduce el nombre de la ciudad para obtener el clima: Apodaca\n",
            "✅ Datos guardados en clima_datos.csv\n",
            "✅ Datos guardados en clima_datos.json\n",
            "\n",
            "📊 Clima actual y pronóstico (solo temperaturas y humedad):\n",
            "Actual - 2025-05-15 - Apodaca: 41.55°C, Humedad: 13%, Presión: 1004 hPa\n",
            "Pronóstico - 2025-05-16 - Apodaca: 35.65°C, Humedad: 32%, Presión: 1006 hPa\n",
            "Pronóstico - 2025-05-17 - Apodaca: 35.11°C, Humedad: 38%, Presión: 1007 hPa\n",
            "Pronóstico - 2025-05-18 - Apodaca: 34.14°C, Humedad: 39%, Presión: 1007 hPa\n",
            "Pronóstico - 2025-05-19 - Apodaca: 36.57°C, Humedad: 29%, Presión: 1004 hPa\n",
            "Pronóstico - 2025-05-20 - Apodaca: 39.17°C, Humedad: 10%, Presión: 1006 hPa\n"
          ]
        }
      ]
    },
    {
      "cell_type": "markdown",
      "source": [
        "**🗂️ Diseño de la Nueva Estructura de Datos**\n",
        "\n",
        "Para facilitar el análisis del clima, se diseñó una estructura de datos clara y concisa basada en una lista de diccionarios, donde cada diccionario representa un registro meteorológico con los siguientes campos:"
      ],
      "metadata": {
        "id": "mv7chh30xxKt"
      }
    },
    {
      "cell_type": "code",
      "source": [
        "{\n",
        "    \"fecha\": \"2025-05-15 12:00\",\n",
        "    \"ciudad\": \"Madrid\",\n",
        "    \"temperatura\": \"21.5°C\",\n",
        "    \"humedad\": \"53%\",\n",
        "    \"presion\": \"1012 hPa\"\n",
        "}"
      ],
      "metadata": {
        "id": "eg12GNwNxzqc"
      },
      "execution_count": null,
      "outputs": []
    },
    {
      "cell_type": "markdown",
      "source": [
        "Este diseño permite:\n",
        "\n",
        "Agrupar registros por ciudad o fecha.\n",
        "\n",
        "Acceder fácilmente a variables clave como temperatura y humedad.\n",
        "\n",
        "Exportar sin pérdida de formato a CSV y JSON.\n",
        "\n",
        "# **📝 Documentación del Proceso**\n",
        "🔹 Métodos de extracción de datos\n",
        "Herramienta utilizada: requests\n",
        "\n",
        "API: OpenWeather\n",
        "\n",
        "Formato: JSON\n",
        "\n",
        "Autenticación: API Key en la URL de la solicitud.\n",
        "\n",
        "🔹 Técnicas de limpieza aplicadas\n",
        "Eliminación de campos innecesarios como coordenadas, zona horaria, etc.\n",
        "\n",
        "Conversión de unidades de temperatura (K → °C o °F).\n",
        "\n",
        "Redondeo de valores flotantes a 2 decimales.\n",
        "\n",
        "Uniformización de formatos de fecha y hora.\n",
        "\n",
        "🔹 Validaciones y transformaciones:\n",
        "Verificación del código de estado HTTP (200 OK).\n",
        "\n",
        "Conversión de strings a float o int para análisis numérico.\n"
      ],
      "metadata": {
        "id": "wotEJfP7x2qU"
      }
    }
  ]
}